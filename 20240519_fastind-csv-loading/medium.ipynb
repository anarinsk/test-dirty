{
 "cells": [
  {
   "cell_type": "markdown",
   "metadata": {},
   "source": [
    "https://python.plainenglish.io/do-you-read-excel-files-with-python-there-is-a-1000x-faster-way-72a15964d30a"
   ]
  },
  {
   "cell_type": "code",
   "execution_count": 2,
   "metadata": {},
   "outputs": [],
   "source": [
    "import pandas as pd\n",
    "import numpy as np\n",
    "from joblib import Parallel, delayed\n",
    "import time\n",
    "\n",
    "for file_number in range(10):\n",
    "    values = np.random.uniform(size=(20000,25))\n",
    "    pd.DataFrame(values).to_csv(f\"Dummy {file_number}.csv\")\n",
    "    pd.DataFrame(values).to_excel(f\"Dummy {file_number}.xlsx\")\n",
    "    pd.DataFrame(values).to_pickle(f\"Dummy {file_number}.pickle\")"
   ]
  },
  {
   "cell_type": "code",
   "execution_count": 16,
   "metadata": {},
   "outputs": [
    {
     "name": "stdout",
     "output_type": "stream",
     "text": [
      "Excel: 23.110687017440796\n"
     ]
    }
   ],
   "source": [
    "start = time.time()\n",
    "df = pd.read_excel(\"Dummy 0.xlsx\")\n",
    "\n",
    "for file_number in range(1,10):\n",
    "    df._append(pd.read_excel(f\"Dummy {file_number}.xlsx\"))\n",
    "end = time.time()\n",
    "print(\"Excel:\", end - start)\n"
   ]
  },
  {
   "cell_type": "code",
   "execution_count": 11,
   "metadata": {},
   "outputs": [
    {
     "name": "stdout",
     "output_type": "stream",
     "text": [
      "CSV2: 0.3625142574310303\n"
     ]
    }
   ],
   "source": [
    "start = time.time()\n",
    "df = []\n",
    "for file_number in range(10):\n",
    "    temp = pd.read_csv(f\"Dummy {file_number}.csv\")\n",
    "    df.append(temp)\n",
    "df = pd.concat(df, ignore_index=True)\n",
    "end = time.time()\n",
    "print(\"CSV2:\", end - start)"
   ]
  },
  {
   "cell_type": "code",
   "execution_count": 17,
   "metadata": {},
   "outputs": [
    {
     "name": "stderr",
     "output_type": "stream",
     "text": [
      "[Parallel(n_jobs=2)]: Using backend LokyBackend with 2 concurrent workers.\n",
      "[Parallel(n_jobs=2)]: Done   1 tasks      | elapsed:    0.4s\n",
      "[Parallel(n_jobs=2)]: Done   4 tasks      | elapsed:    0.5s\n",
      "[Parallel(n_jobs=2)]: Done  10 out of  10 | elapsed:    0.6s finished\n"
     ]
    },
    {
     "name": "stdout",
     "output_type": "stream",
     "text": [
      "CSV//: 0.6211428642272949\n"
     ]
    }
   ],
   "source": [
    "start = time.time()\n",
    "def loop(file_number):\n",
    "    return pd.read_csv(f\"Dummy {file_number}.csv\")\n",
    "df = Parallel(n_jobs=2, verbose=10)(delayed(loop)(file_number) for file_number in range(10))\n",
    "df = pd.concat(df, ignore_index=True)\n",
    "end = time.time()\n",
    "print(\"CSV//:\", end - start)"
   ]
  },
  {
   "cell_type": "code",
   "execution_count": 18,
   "metadata": {},
   "outputs": [
    {
     "name": "stderr",
     "output_type": "stream",
     "text": [
      "[Parallel(n_jobs=4)]: Using backend LokyBackend with 4 concurrent workers.\n",
      "[Parallel(n_jobs=4)]: Done   5 out of  10 | elapsed:    0.4s remaining:    0.4s\n",
      "[Parallel(n_jobs=4)]: Done   7 out of  10 | elapsed:    0.4s remaining:    0.2s\n",
      "[Parallel(n_jobs=4)]: Done  10 out of  10 | elapsed:    0.4s finished\n"
     ]
    }
   ],
   "source": [
    "def loop(file_number):\n",
    "    return pd.read_csv(f\"Dummy {file_number}.csv\")\n",
    "df = Parallel(n_jobs=4, verbose=10)(delayed(loop)(file_number) for file_number in range(10))\n",
    "\n",
    "#equivalent to\n",
    "df = [loop(file_number) for file_number in range(10)]"
   ]
  },
  {
   "cell_type": "code",
   "execution_count": 14,
   "metadata": {},
   "outputs": [
    {
     "name": "stderr",
     "output_type": "stream",
     "text": [
      "[Parallel(n_jobs=-1)]: Using backend LokyBackend with 16 concurrent workers.\n"
     ]
    },
    {
     "name": "stdout",
     "output_type": "stream",
     "text": [
      "Excel//: 2.4374759197235107\n"
     ]
    },
    {
     "name": "stderr",
     "output_type": "stream",
     "text": [
      "[Parallel(n_jobs=-1)]: Done   3 out of  10 | elapsed:    2.3s remaining:    5.4s\n",
      "[Parallel(n_jobs=-1)]: Done   5 out of  10 | elapsed:    2.4s remaining:    2.4s\n",
      "[Parallel(n_jobs=-1)]: Done   7 out of  10 | elapsed:    2.4s remaining:    1.0s\n",
      "[Parallel(n_jobs=-1)]: Done  10 out of  10 | elapsed:    2.4s finished\n"
     ]
    }
   ],
   "source": [
    "start = time.time()\n",
    "def loop(file_number):\n",
    "    return pd.read_excel(f\"Dummy {file_number}.xlsx\")\n",
    "df = Parallel(n_jobs=-1, verbose=10)(delayed(loop)(file_number) for file_number in range(10))\n",
    "df = pd.concat(df, ignore_index=True)\n",
    "end = time.time()\n",
    "print(\"Excel//:\", end - start)"
   ]
  }
 ],
 "metadata": {
  "kernelspec": {
   "display_name": "Python 3",
   "language": "python",
   "name": "python3"
  },
  "language_info": {
   "codemirror_mode": {
    "name": "ipython",
    "version": 3
   },
   "file_extension": ".py",
   "mimetype": "text/x-python",
   "name": "python",
   "nbconvert_exporter": "python",
   "pygments_lexer": "ipython3",
   "version": "3.11.9"
  }
 },
 "nbformat": 4,
 "nbformat_minor": 2
}
